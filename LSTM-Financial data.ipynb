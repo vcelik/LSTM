{
 "cells": [
  {
   "cell_type": "code",
   "execution_count": 1,
   "id": "8a4ee3cc",
   "metadata": {},
   "outputs": [
    {
     "name": "stderr",
     "output_type": "stream",
     "text": [
      "/Users/volkancelik/anaconda3/lib/python3.10/site-packages/tqdm/auto.py:22: TqdmWarning: IProgress not found. Please update jupyter and ipywidgets. See https://ipywidgets.readthedocs.io/en/stable/user_install.html\n",
      "  from .autonotebook import tqdm as notebook_tqdm\n"
     ]
    }
   ],
   "source": [
    "import torch\n",
    "import torch.nn as nn\n",
    "import torch.nn.functional as F\n",
    "from torch.optim import Adam\n",
    "\n",
    "import lightning as L\n",
    "from torch.utils.data import TensorDataset,DataLoader\n"
   ]
  },
  {
   "cell_type": "code",
   "execution_count": 11,
   "id": "d2aedb86",
   "metadata": {},
   "outputs": [],
   "source": [
    "class LSTMbyHand(L.LightningModule):\n",
    "    def __init__(self):\n",
    "        super().__init__()\n",
    "        mean=torch.tensor(0.0)\n",
    "        std=torch.tensor(1.0)\n",
    "        self.wlr1=nn.Parameter(torch.normal(mean=mean,std=std),requires_grad=True)\n",
    "        self.wlr2=nn.Parameter(torch.normal(mean=mean,std=std),requires_grad=True)\n",
    "        self.blr1=nn.Parameter(torch.tensor(0.),requires_grad=True)\n",
    "        \n",
    "        self.wpr1=nn.Parameter(torch.normal(mean=mean,std=std),requires_grad=True)\n",
    "        self.wpr2=nn.Parameter(torch.normal(mean=mean,std=std),requires_grad=True)\n",
    "        self.bpr1=nn.Parameter(torch.tensor(0.),requires_grad=True)\n",
    "        \n",
    "        self.wp1=nn.Parameter(torch.normal(mean=mean,std=std),requires_grad=True)\n",
    "        self.wp2=nn.Parameter(torch.normal(mean=mean,std=std),requires_grad=True)\n",
    "        self.bp1=nn.Parameter(torch.tensor(0.),requires_grad=True)\n",
    "        \n",
    "        self.wo1=nn.Parameter(torch.normal(mean=mean,std=std),requires_grad=True)\n",
    "        self.wo2=nn.Parameter(torch.normal(mean=mean,std=std),requires_grad=True)\n",
    "        self.bo1=nn.Parameter(torch.tensor(0.),requires_grad=True)\n",
    "        \n",
    "    def lstm_unit(self,input_value,long_memory,short_memory):\n",
    "        \n",
    "        long_remember_percent=torch.sigmoid((short_memory*self.wlr1)+(input_value*self.wlr2)+self.blr1)\n",
    "        potential_remember_percent=torch.sigmoid((short_memory*self.wpr1)+(input_value*self.wpr2)+self.bpr1)\n",
    "        potential_memory=torch.tanh((short_memory*self.wp1)+(input_value*self.wp2)+self.bp1)\n",
    "        updated_long_memory=((long_memory*long_remember_percent)+(potential_memory*potential_remember_percent))\n",
    "        output_percent=torch.sigmoid((short_memory*self.wo1)+(input_value*self.wo2)+self.bo1)\n",
    "        updated_short_memory=torch.tanh(updated_long_memory)*output_percent\n",
    "        return ([updated_long_memory,updated_short_memory])\n",
    "    \n",
    "    def forward(self,input):\n",
    "        long_memory=0\n",
    "        short_memory=0\n",
    "        day1=input[0]\n",
    "        day2=input[1]\n",
    "        day3=input[2]\n",
    "        day4=input[3]\n",
    "        long_memory,short_memory=self.lstm_unit(day1,long_memory,short_memory)\n",
    "        long_memory,short_memory=self.lstm_unit(day2,long_memory,short_memory)\n",
    "        long_memory,short_memory=self.lstm_unit(day3,long_memory,short_memory)\n",
    "        long_memory,short_memory=self.lstm_unit(day4,long_memory,short_memory)\n",
    "        return short_memory\n",
    "        \n",
    "    def configure_optimizers(self):\n",
    "        return Adam(self.parameters())\n",
    "    def training_step(self,batch,batch_idx):\n",
    "        input_i,label_i=batch\n",
    "        output_i=self.forward(input_i[0])\n",
    "        loss=(output_i-label_i)**2\n",
    "        \n",
    "        self.log(\"train_loss\",loss)\n",
    "        \n",
    "        if label_i == 0:\n",
    "            print(\"\")\n",
    "            #self.log(\"out_0\",output_i)\n",
    "        else:\n",
    "            print(\"\")\n",
    "            #self.log(\"out_1\",output_i)\n",
    "            \n",
    "        return loss"
   ]
  },
  {
   "cell_type": "code",
   "execution_count": 12,
   "id": "c635905f",
   "metadata": {},
   "outputs": [],
   "source": [
    "model=LSTMbyHand()"
   ]
  },
  {
   "cell_type": "code",
   "execution_count": 13,
   "id": "e0b6e8fa",
   "metadata": {},
   "outputs": [
    {
     "name": "stdout",
     "output_type": "stream",
     "text": [
      "\n",
      "Now lets compare the observed and predicted values...\n"
     ]
    }
   ],
   "source": [
    "print(\"\\nNow lets compare the observed and predicted values...\")"
   ]
  },
  {
   "cell_type": "code",
   "execution_count": 14,
   "id": "aea24c68",
   "metadata": {},
   "outputs": [
    {
     "name": "stdout",
     "output_type": "stream",
     "text": [
      "Company A: Observed=0,Predicted= tensor(-0.0041)\n"
     ]
    }
   ],
   "source": [
    "print(\"Company A: Observed=0,Predicted=\",model(torch.tensor([0.,0.5,0.25,1.])).detach())"
   ]
  },
  {
   "cell_type": "code",
   "execution_count": 15,
   "id": "86a9e423",
   "metadata": {},
   "outputs": [
    {
     "name": "stdout",
     "output_type": "stream",
     "text": [
      "Company B: Observed=1,Predicted= tensor(-0.0041)\n"
     ]
    }
   ],
   "source": [
    "print(\"Company B: Observed=1,Predicted=\",model(torch.tensor([0.,0.5,0.25,1.])).detach())"
   ]
  },
  {
   "cell_type": "code",
   "execution_count": 16,
   "id": "fdf8e123",
   "metadata": {},
   "outputs": [],
   "source": [
    "inputs=torch.tensor([[0.,0.5,0.25,1.],[1.,0.5,0.25,1.]])\n",
    "labels=torch.tensor([0.,1.])\n",
    "dataset=TensorDataset(inputs,labels)\n",
    "dataloader=DataLoader(dataset)"
   ]
  },
  {
   "cell_type": "code",
   "execution_count": 21,
   "id": "25e1746b",
   "metadata": {},
   "outputs": [
    {
     "name": "stderr",
     "output_type": "stream",
     "text": [
      "GPU available: True (mps), used: True\n",
      "TPU available: False, using: 0 TPU cores\n",
      "IPU available: False, using: 0 IPUs\n",
      "HPU available: False, using: 0 HPUs\n"
     ]
    }
   ],
   "source": [
    "trainer=L.Trainer(max_epochs=2000)"
   ]
  },
  {
   "cell_type": "code",
   "execution_count": 19,
   "id": "660d56b4",
   "metadata": {},
   "outputs": [
    {
     "data": {
      "text/plain": [
       "tensor(-0.0041)"
      ]
     },
     "execution_count": 19,
     "metadata": {},
     "output_type": "execute_result"
    }
   ],
   "source": [
    "model(torch.tensor([0.,0.5,0.25,1.])).detach()"
   ]
  },
  {
   "cell_type": "code",
   "execution_count": 20,
   "id": "9211bbb6",
   "metadata": {},
   "outputs": [
    {
     "data": {
      "text/plain": [
       "tensor(-0.0041)"
      ]
     },
     "execution_count": 20,
     "metadata": {},
     "output_type": "execute_result"
    }
   ],
   "source": [
    "model(torch.tensor([0.,0.5,0.25,1.])).detach()"
   ]
  },
  {
   "cell_type": "code",
   "execution_count": null,
   "id": "c3704db5",
   "metadata": {},
   "outputs": [],
   "source": []
  }
 ],
 "metadata": {
  "kernelspec": {
   "display_name": "Python 3 (ipykernel)",
   "language": "python",
   "name": "python3"
  },
  "language_info": {
   "codemirror_mode": {
    "name": "ipython",
    "version": 3
   },
   "file_extension": ".py",
   "mimetype": "text/x-python",
   "name": "python",
   "nbconvert_exporter": "python",
   "pygments_lexer": "ipython3",
   "version": "3.10.9"
  }
 },
 "nbformat": 4,
 "nbformat_minor": 5
}
